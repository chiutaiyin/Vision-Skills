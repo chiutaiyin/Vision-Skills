{
 "cells": [
  {
   "cell_type": "code",
   "execution_count": null,
   "metadata": {},
   "outputs": [],
   "source": [
    "import numpy as np\n",
    "import tensorflow as tf\n",
    "import keras\n",
    "from keras.models import Model\n",
    "import utils.VqaQualityModel as VQM \n",
    "from keras.preprocessing import image\n",
    "from keras.applications.imagenet_utils import preprocess_input\n",
    "import os, json, nltk\n",
    "os.environ[\"CUDA_VISIBLE_DEVICES\"]=\"0\""
   ]
  },
  {
   "cell_type": "code",
   "execution_count": 2,
   "metadata": {},
   "outputs": [],
   "source": [
    "def encode_sentence(sentence, vocab, max_len = 14):\n",
    "    unk_word = '<UNK>'\n",
    "    tokens = nltk.word_tokenize(sentence.lower())\n",
    "    tokens_id = [vocab.get(x, vocab[unk_word]) + 1 for x in tokens] # +1 to reserve 0 for zero paddings\n",
    "    padded_tokens_id = keras.preprocessing.sequence.pad_sequences(\n",
    "                        [tokens_id], maxlen=max_len, padding='post', truncating='post')\n",
    "\n",
    "    return padded_tokens_id[0]"
   ]
  },
  {
   "cell_type": "code",
   "execution_count": 3,
   "metadata": {},
   "outputs": [],
   "source": [
    "# task = vizwiz, vqa or your own task\n",
    "# To create vocabulary for your own task, please refer to the sample code build_vocab.ipynb\n",
    "task = 'vqa' \n",
    "vocab = json.load(open('./utils/word2vocab_{}.json'.format(task)))"
   ]
  },
  {
   "cell_type": "code",
   "execution_count": 4,
   "metadata": {},
   "outputs": [
    {
     "name": "stdout",
     "output_type": "stream",
     "text": [
      "WARNING:tensorflow:From /home/tc32474/anaconda3/envs/tf_v1.14/lib/python3.7/site-packages/tensorflow/python/keras/initializers.py:119: calling RandomUniform.__init__ (from tensorflow.python.ops.init_ops) with dtype is deprecated and will be removed in a future version.\n",
      "Instructions for updating:\n",
      "Call initializer instance with the dtype argument instead of passing it to the constructor\n",
      "WARNING:tensorflow:From /home/tc32474/anaconda3/envs/tf_v1.14/lib/python3.7/site-packages/tensorflow/python/ops/init_ops.py:1251: calling VarianceScaling.__init__ (from tensorflow.python.ops.init_ops) with dtype is deprecated and will be removed in a future version.\n",
      "Instructions for updating:\n",
      "Call initializer instance with the dtype argument instead of passing it to the constructor\n",
      "WARNING:tensorflow:From /home/tc32474/anaconda3/envs/tf_v1.14/lib/python3.7/site-packages/tensorflow/python/training/saver.py:1276: checkpoint_exists (from tensorflow.python.training.checkpoint_management) is deprecated and will be removed in a future version.\n",
      "Instructions for updating:\n",
      "Use standard file APIs to check for files with this prefix.\n",
      "INFO:tensorflow:Restoring parameters from ./ckpt/vqa/cnt/-5\n",
      "WARNING:tensorflow:From /home/tc32474/anaconda3/envs/tf_v1.14/lib/python3.7/site-packages/keras/backend/tensorflow_backend.py:4070: The name tf.nn.max_pool is deprecated. Please use tf.nn.max_pool2d instead.\n",
      "\n"
     ]
    }
   ],
   "source": [
    "# create the model:\n",
    "# inputs\n",
    "f_map = tf.placeholder(tf.float32, shape=[None, 14, 14, 2048])\n",
    "q_input = tf.placeholder(tf.int32, shape=[None, 14])\n",
    "\n",
    "# main model\n",
    "model = VQM.VqaQualityModel(task)\n",
    "pred = model.build_graph(f_map, q_input)\n",
    "sess = tf.Session()\n",
    "all_saver = tf.train.Saver() \n",
    "all_saver.restore(sess, './ckpt/vqa/cnt/ckpt') # restore from the checkpoint for the skill to be predicted\n",
    "\n",
    "# backbone\n",
    "resnet152 = keras.applications.ResNet152(include_top=False, weights='imagenet', input_shape=[448, 448, 3])\n",
    "base_model = keras.models.Model(inputs=resnet152.input, outputs=resnet152.get_layer('conv5_block3_add').output)\n"
   ]
  },
  {
   "cell_type": "code",
   "execution_count": 6,
   "metadata": {},
   "outputs": [
    {
     "name": "stdout",
     "output_type": "stream",
     "text": [
      "WARNING:tensorflow:From /home/tc32474/anaconda3/envs/tf_v1.14/lib/python3.7/site-packages/keras/backend/tensorflow_backend.py:422: The name tf.global_variables is deprecated. Please use tf.compat.v1.global_variables instead.\n",
      "\n"
     ]
    }
   ],
   "source": [
    "# preprocess the input image\n",
    "img_dir = 'train2014'\n",
    "image_name = 'COCO_train2014_000000100063.jpg'\n",
    "img = image.load_img('{}/{}'.format(img_dir, image_name), target_size=(448,448)) \n",
    "img = image.img_to_array(img)\n",
    "img = np.expand_dims(img, axis=0)\n",
    "img = preprocess_input(img)\n",
    "\n",
    "# preprocess the input question\n",
    "question = 'Are these trains moving?'\n",
    "enc_question = encode_sentence(question, vocab)\n",
    "\n",
    "img_feat = base_model.predict(img)\n",
    "output = sess.run(pred, feed_dict={f_map: img_feat, q_input: [enc_question]})"
   ]
  },
  {
   "cell_type": "code",
   "execution_count": 7,
   "metadata": {},
   "outputs": [
    {
     "data": {
      "text/plain": [
       "{'skills': array([[0.00016005]], dtype=float32)}"
      ]
     },
     "execution_count": 7,
     "metadata": {},
     "output_type": "execute_result"
    }
   ],
   "source": [
    "output"
   ]
  },
  {
   "cell_type": "code",
   "execution_count": null,
   "metadata": {},
   "outputs": [],
   "source": []
  }
 ],
 "metadata": {
  "kernelspec": {
   "display_name": "Python 3",
   "language": "python",
   "name": "python3"
  },
  "language_info": {
   "codemirror_mode": {
    "name": "ipython",
    "version": 3
   },
   "file_extension": ".py",
   "mimetype": "text/x-python",
   "name": "python",
   "nbconvert_exporter": "python",
   "pygments_lexer": "ipython3",
   "version": "3.5.6"
  }
 },
 "nbformat": 4,
 "nbformat_minor": 2
}
